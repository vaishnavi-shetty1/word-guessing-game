{
  "metadata": {
    "kernelspec": {
      "language": "python",
      "display_name": "Python 3",
      "name": "python3"
    },
    "language_info": {
      "name": "python",
      "version": "3.10.14",
      "mimetype": "text/x-python",
      "codemirror_mode": {
        "name": "ipython",
        "version": 3
      },
      "pygments_lexer": "ipython3",
      "nbconvert_exporter": "python",
      "file_extension": ".py"
    },
    "kaggle": {
      "accelerator": "none",
      "dataSources": [],
      "dockerImageVersionId": 30786,
      "isInternetEnabled": false,
      "language": "python",
      "sourceType": "notebook",
      "isGpuEnabled": false
    },
    "colab": {
      "name": "word-guess-game",
      "provenance": [],
      "include_colab_link": true
    }
  },
  "nbformat_minor": 0,
  "nbformat": 4,
  "cells": [
    {
      "cell_type": "markdown",
      "metadata": {
        "id": "view-in-github",
        "colab_type": "text"
      },
      "source": [
        "<a href=\"https://colab.research.google.com/github/vaishnavi-shetty1/word-guessing-game/blob/main/word_guess_game.ipynb\" target=\"_parent\"><img src=\"https://colab.research.google.com/assets/colab-badge.svg\" alt=\"Open In Colab\"/></a>"
      ]
    },
    {
      "cell_type": "code",
      "source": [
        "import random\n",
        "\n",
        "name = input(\"What is your name? \")\n",
        "\n",
        "print(\"Good Luck ! \", name)\n",
        "\n",
        "words = ['rainbow', 'computer', 'science', 'programming',\n",
        "         'python', 'player', 'condition',\n",
        "         'reverse', 'water', 'board', 'geeks','cat','word','guess','flower','world',]\n",
        "\n",
        "word = random.choice(words)\n",
        "\n",
        "print(\"Guess the characters\")\n",
        "\n",
        "guesses = ''\n",
        "turns = 12\n",
        "\n",
        "while turns > 0:\n",
        "\n",
        "    failed = 0\n",
        "\n",
        "    for char in word:\n",
        "\n",
        "        if char in guesses:\n",
        "            print(char, end=\" \")\n",
        "\n",
        "        else:\n",
        "            print(\"_\")\n",
        "            failed += 1\n",
        "\n",
        "    if failed == 0:\n",
        "        print(\"You Win\")\n",
        "        print(\"The word is: \", word)\n",
        "        break\n",
        "\n",
        "    print()\n",
        "    guess = input(\"guess a character:\")\n",
        "\n",
        "    guesses += guess\n",
        "\n",
        "    if guess not in word:\n",
        "\n",
        "        turns -= 1\n",
        "        print(\"Wrong\")\n",
        "        print(\"You have\", + turns, 'more guesses')\n",
        "\n",
        "        if turns == 0:\n",
        "            print(\"You Loose\")"
      ],
      "metadata": {
        "execution": {
          "iopub.status.busy": "2024-11-20T13:26:01.39651Z",
          "iopub.execute_input": "2024-11-20T13:26:01.396925Z",
          "iopub.status.idle": "2024-11-20T13:26:51.325143Z",
          "shell.execute_reply.started": "2024-11-20T13:26:01.396868Z",
          "shell.execute_reply": "2024-11-20T13:26:51.323827Z"
        },
        "trusted": true,
        "id": "H3-HetHvxpaB"
      },
      "execution_count": null,
      "outputs": []
    }
  ]
}